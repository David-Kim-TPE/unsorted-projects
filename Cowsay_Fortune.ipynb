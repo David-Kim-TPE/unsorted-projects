{
  "nbformat": 4,
  "nbformat_minor": 0,
  "metadata": {
    "colab": {
      "provenance": [],
      "authorship_tag": "ABX9TyNZ1glOjW0aQeJzfy5XbKjV",
      "include_colab_link": true
    },
    "kernelspec": {
      "name": "python3",
      "display_name": "Python 3"
    },
    "language_info": {
      "name": "python"
    }
  },
  "cells": [
    {
      "cell_type": "markdown",
      "metadata": {
        "id": "view-in-github",
        "colab_type": "text"
      },
      "source": [
        "<a href=\"https://colab.research.google.com/github/MushroomFleet/unsorted-projects/blob/main/Cowsay_Fortune.ipynb\" target=\"_parent\"><img src=\"https://colab.research.google.com/assets/colab-badge.svg\" alt=\"Open In Colab\"/></a>"
      ]
    },
    {
      "cell_type": "code",
      "execution_count": 1,
      "metadata": {
        "colab": {
          "base_uri": "https://localhost:8080/"
        },
        "id": "vXRb-0cLb0mR",
        "outputId": "963df99a-2ef4-4204-8397-b7eedb7efc4d"
      },
      "outputs": [
        {
          "output_type": "stream",
          "name": "stdout",
          "text": [
            "Collecting python-cowsay\n",
            "  Downloading python_cowsay-1.1.1-py3-none-any.whl (27 kB)\n",
            "Installing collected packages: python-cowsay\n",
            "Successfully installed python-cowsay-1.1.1\n",
            "Collecting fortune-python\n",
            "  Downloading fortune_python-1.0.3-py3-none-any.whl (1.1 MB)\n",
            "\u001b[2K     \u001b[90m━━━━━━━━━━━━━━━━━━━━━━━━━━━━━━━━━━━━━━━━\u001b[0m \u001b[32m1.1/1.1 MB\u001b[0m \u001b[31m9.1 MB/s\u001b[0m eta \u001b[36m0:00:00\u001b[0m\n",
            "\u001b[?25hInstalling collected packages: fortune-python\n",
            "Successfully installed fortune-python-1.0.3\n"
          ]
        }
      ],
      "source": [
        "!pip install python-cowsay\n",
        "!pip install fortune-python"
      ]
    },
    {
      "cell_type": "code",
      "source": [
        "from cowsay import cowsay\n",
        "from fortune import fortune\n",
        "\n",
        "message = fortune()\n",
        "print(cowsay(message))"
      ],
      "metadata": {
        "colab": {
          "base_uri": "https://localhost:8080/"
        },
        "id": "i4RHN1k-cr_4",
        "outputId": "2b9b45af-1f4a-446f-fb42-aadd4474ed1d"
      },
      "execution_count": 4,
      "outputs": [
        {
          "output_type": "stream",
          "name": "stdout",
          "text": [
            " _______________________________________ \n",
            "/ Old Japanese proverb:                 \\\n",
            "|                                       |\n",
            "| There are two kinds of fools -- those |\n",
            "| who never climb Mt. Fuji,             |\n",
            "|                                       |\n",
            "\\ and those who climb it twice.         /\n",
            " --------------------------------------- \n",
            "        \\   ^__^\n",
            "         \\  (oo)\\_______\n",
            "            (__)\\       )\\/\\\n",
            "                ||----w |\n",
            "                ||     ||\n"
          ]
        }
      ]
    }
  ]
}