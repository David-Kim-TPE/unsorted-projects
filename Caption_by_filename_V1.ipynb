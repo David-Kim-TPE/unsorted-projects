{
  "cells": [
    {
      "cell_type": "markdown",
      "metadata": {
        "id": "view-in-github",
        "colab_type": "text"
      },
      "source": [
        "<a href=\"https://colab.research.google.com/github/MushroomFleet/unsorted-projects/blob/main/Caption_by_filename_V1.ipynb\" target=\"_parent\"><img src=\"https://colab.research.google.com/assets/colab-badge.svg\" alt=\"Open In Colab\"/></a>"
      ]
    },
    {
      "cell_type": "markdown",
      "source": [
        "[![ko-fi](https://img.shields.io/badge/Support%20me%20on%20Ko--fi-F16061?logo=ko-fi&logoColor=white&style=flat)](https://ko-fi.com/driftjohnson)\n",
        "\n",
        "# **Johnsons Tools / Colab Notebooks For Augmented Productivity**"
      ],
      "metadata": {
        "id": "AXDIzIJAjJDP"
      }
    },
    {
      "cell_type": "markdown",
      "source": [
        "| Notebook Name | Description | Link |\n",
        "| --- | --- | --- |\n",
        "| [Caption Append](https://github.com/MushroomFleet/Caption-Append) | Caption Append | [![](https://img.shields.io/static/v1?message=Open%20in%20Colab&logo=googlecolab&labelColor=5c5c5c&color=0f80c1&label=%20&style=flat)](https://colab.research.google.com/github/MushroomFleet/Caption-Append/blob/main/Caption_Append_V1.ipynb) |\n",
        "| [Caption Concat](https://github.com/MushroomFleet/Caption-Concat) | Caption Concat | [![](https://img.shields.io/static/v1?message=Open%20in%20Colab&logo=googlecolab&labelColor=5c5c5c&color=0f80c1&label=%20&style=flat)](https://colab.research.google.com/github/MushroomFleet/Caption-Concat/blob/main/Caption_Concat_V1_2.ipynb) |\n",
        "| [Caption Stripper](https://github.com/MushroomFleet/Caption-Stripper) | Caption Stripper | [![](https://img.shields.io/static/v1?message=Open%20in%20Colab&logo=googlecolab&labelColor=5c5c5c&color=0f80c1&label=%20&style=flat)](https://colab.research.google.com/github/MushroomFleet/Caption-Stripper/blob/main/Caption_Stripper_V1.ipynb) |\n",
        "| [Caption Swap](https://github.com/MushroomFleet/Caption-Swap) | Caption Swap | [![](https://img.shields.io/static/v1?message=Open%20in%20Colab&logo=googlecolab&labelColor=5c5c5c&color=0f80c1&label=%20&style=flat)](https://colab.research.google.com/github/MushroomFleet/Caption-Swap/blob/main/Caption_Swap_V1.ipynb) |\n",
        "| [Reverse Coco](https://github.com/MushroomFleet/Reverse-Coco) | Reverse Coco | [![](https://img.shields.io/static/v1?message=Open%20in%20Colab&logo=googlecolab&labelColor=5c5c5c&color=0f80c1&label=%20&style=flat)](https://colab.research.google.com/github/MushroomFleet/Reverse-Coco/blob/main/ReverseCocoV1.ipynb) |\n",
        "| [FFXFade-o-rama](https://github.com/MushroomFleet/FFXFADE-O-RAMA) | FFX Fade o rama | [![](https://img.shields.io/static/v1?message=Open%20in%20Colab&logo=googlecolab&labelColor=5c5c5c&color=0f80c1&label=%20&style=flat)](https://colab.research.google.com/github/MushroomFleet/FFXFADE-O-RAMA/blob/main/djz_FFXFADE_O_RAMA.ipynb) |\n",
        "| [Deforum Tools](https://github.com/MushroomFleet/Deforum-Sequence-Tools) | Deforum Tools | [![](https://img.shields.io/static/v1?message=Open%20in%20Colab&logo=googlecolab&labelColor=5c5c5c&color=0f80c1&label=%20&style=flat)](https://colab.research.google.com/github/MushroomFleet/Deforum-Sequence-Tools/blob/main/Deforum_Sequence_ToolsV1.ipynb) |"
      ],
      "metadata": {
        "id": "KNBQ_DbMjdzb"
      }
    },
    {
      "cell_type": "markdown",
      "metadata": {
        "id": "1lJFS3DwxNGU"
      },
      "source": [
        "###**Google Drive Sync & setup**"
      ]
    },
    {
      "cell_type": "code",
      "source": [
        "from google.colab import drive\n",
        "drive.mount('/content/drive')"
      ],
      "metadata": {
        "colab": {
          "base_uri": "https://localhost:8080/"
        },
        "id": "jkewPHxopHL7",
        "outputId": "f0f2ab44-cca1-44be-c35e-e46b65f1b27c"
      },
      "execution_count": null,
      "outputs": [
        {
          "output_type": "stream",
          "name": "stdout",
          "text": [
            "Mounted at /content/drive\n"
          ]
        }
      ]
    },
    {
      "cell_type": "markdown",
      "source": [
        "\n",
        "This will scan a folder of folders, then use the filenames to create a matching pair text file, the first line of the text file is: [user_word] Filename\n",
        "\n",
        "# SETUP PATHS HERE:"
      ],
      "metadata": {
        "id": "5vS8EAkMAbIo"
      }
    },
    {
      "cell_type": "code",
      "source": [
        "import os\n",
        "from PIL import Image\n",
        "\n",
        "\n",
        "# Define the root directory to scan\n",
        "root_folder = \"F:\\\\Pantone\\\\colours_images\"  # @param {type:'string'}\n",
        "\n",
        "# Define the Prefix token\n",
        "user_word = \"pxk\" # @param {type:'string'}\n"
      ],
      "metadata": {
        "id": "GolU2UCWmzwQ"
      },
      "execution_count": 4,
      "outputs": []
    },
    {
      "cell_type": "markdown",
      "metadata": {
        "id": "TWZCMNd95ef7"
      },
      "source": [
        "# Run Filename to Caption"
      ]
    },
    {
      "cell_type": "code",
      "source": [
        "\n",
        "# Function to process images in a folder and create text files\n",
        "def process_images_in_folder(folder_path):\n",
        "    # Iterate through all files in the folder\n",
        "    for filename in os.listdir(folder_path):\n",
        "        file_path = os.path.join(folder_path, filename)\n",
        "\n",
        "        # Check if the file is a directory\n",
        "        if os.path.isdir(file_path):\n",
        "            # If it's a directory, recursively process its contents\n",
        "            process_images_in_folder(file_path)\n",
        "        else:\n",
        "            # Check if the file is an image (you can add more image extensions as needed)\n",
        "            if filename.lower().endswith(('.png', '.jpg', '.jpeg', '.gif')):\n",
        "                # Create a text file with the same name as the image (without extension)\n",
        "                text_filename = os.path.splitext(filename)[0] + \".txt\"\n",
        "                text_filepath = os.path.join(folder_path, text_filename)\n",
        "\n",
        "                # Write user-defined word and filename (without extension) to the text file\n",
        "                with open(text_filepath, 'w') as text_file:\n",
        "                    text_file.write(f\"{user_word} {os.path.splitext(filename)[0]}\")\n",
        "\n",
        "\n",
        "# Call the function to process images and create text files\n",
        "process_images_in_folder(root_folder)\n",
        "\n",
        "print(\"Done scanning directories.\")"
      ],
      "metadata": {
        "colab": {
          "base_uri": "https://localhost:8080/"
        },
        "id": "6jWmmsWlBuSX",
        "outputId": "611c08cf-95c3-463d-dc3b-2aafb50bf96f"
      },
      "execution_count": 5,
      "outputs": [
        {
          "output_type": "stream",
          "name": "stdout",
          "text": [
            "Done scanning directories.\n"
          ]
        }
      ]
    }
  ],
  "metadata": {
    "colab": {
      "provenance": [],
      "include_colab_link": true
    },
    "gpuClass": "standard",
    "kernelspec": {
      "display_name": "Python 3",
      "name": "python3"
    },
    "language_info": {
      "name": "python"
    }
  },
  "nbformat": 4,
  "nbformat_minor": 0
}